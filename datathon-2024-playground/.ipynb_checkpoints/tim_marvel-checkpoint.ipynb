{
 "cells": [
  {
   "cell_type": "code",
   "execution_count": null,
   "metadata": {
    "id": "JA8ucxiYga5a"
   },
   "outputs": [],
   "source": []
  },
  {
   "cell_type": "markdown",
   "metadata": {
    "id": "FOcjoBHDgbqp"
   },
   "source": [
    "#import pustaka"
   ]
  },
  {
   "cell_type": "code",
   "execution_count": null,
   "metadata": {
    "id": "ClYWEaXwgIyh"
   },
   "outputs": [],
   "source": [
    "import numpy as np # linear algebra\n",
    "import pandas as pd # data processing, CSV file I/O (e.g. pd.read_csv)\n",
    "import tensorflow as tf\n",
    "import matplotlib.pyplot as plt\n",
    "import seaborn as sns\n",
    "from sklearn.manifold import TSNE\n",
    "from sklearn.decomposition import PCA, TruncatedSVD\n",
    "import matplotlib.patches as mpatches\n",
    "import time\n",
    "\n",
    "# Classifier Libraries\n",
    "from sklearn.tree import DecisionTreeClassifier\n",
    "from sklearn.ensemble import RandomForestClassifier\n",
    "import collections\n",
    "from sklearn.model_selection import GridSearchCV, cross_val_score\n",
    "from sklearn.pipeline import Pipeline\n",
    "from sklearn.preprocessing import StandardScaler, FunctionTransformer\n",
    "from sklearn.compose import ColumnTransformer\n",
    "from sklearn.impute import SimpleImputer\n",
    "from xgboost import XGBClassifier\n",
    "from sklearn.model_selection import train_test_split, GridSearchCV\n",
    "from sklearn.metrics import classification_report, confusion_matrix, roc_auc_score,roc_curve, accuracy_score, auc, average_precision_score\n",
    "\n",
    "\n",
    "# Other Libraries\n",
    "from sklearn.model_selection import train_test_split\n",
    "from sklearn.pipeline import make_pipeline\n",
    "from imblearn.pipeline import make_pipeline as imbalanced_make_pipeline\n",
    "from imblearn.over_sampling import SMOTE\n",
    "from imblearn.under_sampling import NearMiss\n",
    "from imblearn.metrics import classification_report_imbalanced\n",
    "from sklearn.metrics import precision_score, recall_score, f1_score, roc_auc_score, accuracy_score, classification_report\n",
    "from collections import Counter\n",
    "from sklearn.model_selection import KFold, StratifiedKFold\n",
    "import warnings\n",
    "warnings.filterwarnings(\"ignore\")\n",
    "from scipy.stats import f_oneway\n"
   ]
  },
  {
   "cell_type": "markdown",
   "metadata": {
    "id": "3RRbtNdniMDM"
   },
   "source": [
    "#eksporasi data dan pembersihan"
   ]
  },
  {
   "cell_type": "code",
   "execution_count": null,
   "metadata": {
    "id": "kNSFsu8ggwGn"
   },
   "outputs": [],
   "source": [
    "train = pd.read_csv('train.csv')\n",
    "loan_activities = pd.read_csv('loan_activities.csv')\n",
    "non_borrower_user = pd.read_csv('non_borrower_user.csv')\n",
    "test = pd.read_csv('test.csv')\n",
    "sample_submission = pd.read_csv('sample_submission.csv')"
   ]
  },
  {
   "cell_type": "code",
   "execution_count": null,
   "metadata": {
    "id": "n_u12jS0ie0F"
   },
   "outputs": [],
   "source": [
    "# Eksplorasi Data\n",
    "print(\"Train Data\")\n",
    "print(train.info())\n",
    "print(train.describe())\n",
    "print(train.head())\n",
    "\n",
    "print('-----------------------------------------------------------------------------------------------------')\n",
    "\n",
    "print(\"\\nLoan Activities Data\")\n",
    "print(loan_activities.info())\n",
    "print(loan_activities.describe())\n",
    "print(loan_activities.head())\n",
    "\n",
    "print('-----------------------------------------------------------------------------------------------------')\n",
    "\n",
    "print(\"\\nNon Borrower User Data\")\n",
    "print(non_borrower_user.info())\n",
    "print(non_borrower_user.describe())\n",
    "print(non_borrower_user.head())\n",
    "\n",
    "print('-----------------------------------------------------------------------------------------------------')\n",
    "\n",
    "print(\"\\nTest Data\")\n",
    "print(test.info())\n",
    "print(test.describe())\n",
    "print(test.head())\n",
    "\n",
    "print('-----------------------------------------------------------------------------------------------------')\n",
    "\n",
    "print(\"\\nSample Submission Data\")\n",
    "print(sample_submission.info())\n",
    "print(sample_submission.describe())\n",
    "print(sample_submission.head())"
   ]
  },
  {
   "cell_type": "code",
   "execution_count": null,
   "metadata": {
    "id": "Vy1rLZyxjIH0"
   },
   "outputs": [],
   "source": [
    "# Memeriksa nilai yang hilang\n",
    "print(\"\\nMissing values in Train Data\")\n",
    "print(train.isnull().sum())\n",
    "\n",
    "print(\"\\nMissing values in Loan Activities Data\")\n",
    "print(loan_activities.isnull().sum())\n",
    "\n",
    "print(\"\\nMissing values in Non Borrower User Data\")\n",
    "print(non_borrower_user.isnull().sum())\n",
    "\n",
    "print(\"\\nMissing values in Test Data\")\n",
    "print(test.isnull().sum())\n",
    "\n",
    "print(\"\\nMissing values in Sample Submission Data\")\n",
    "print(sample_submission.isnull().sum())"
   ]
  },
  {
   "cell_type": "code",
   "execution_count": null,
   "metadata": {
    "id": "MRfyxiEpkdO6"
   },
   "outputs": [],
   "source": [
    "#menhapus missing value\n",
    "train = train.fillna(method='ffill')\n",
    "loan_activities = loan_activities.fillna(method='ffill')\n",
    "non_borrower_user = non_borrower_user.fillna(method='ffill')\n",
    "test = test.fillna(method='ffill')\n",
    "sample_submission = sample_submission.fillna(method='ffill')"
   ]
  },
  {
   "cell_type": "code",
   "execution_count": null,
   "metadata": {
    "id": "7_i7Lh6dlT-g"
   },
   "outputs": [],
   "source": [
    "# Memeriksa duplikat\n",
    "print(\"\\nDuplicates in Train Data\")\n",
    "print(train.duplicated().sum())\n",
    "\n",
    "print(\"\\nDuplicates in Loan Activities Data\")\n",
    "print(loan_activities.duplicated().sum())\n",
    "\n",
    "print(\"\\nDuplicates in Non Borrower User Data\")\n",
    "print(non_borrower_user.duplicated().sum())\n",
    "\n",
    "print(\"\\nDuplicates in Test Data\")\n",
    "print(test.duplicated().sum())\n",
    "\n",
    "print(\"\\nDuplicates in Sample Submission Data\")\n",
    "print(sample_submission.duplicated().sum())"
   ]
  },
  {
   "cell_type": "markdown",
   "metadata": {
    "id": "TrNfrWKYm_yV"
   },
   "source": [
    "#eksplorasi data dan analisis"
   ]
  },
  {
   "cell_type": "code",
   "execution_count": null,
   "metadata": {
    "id": "7owdNFgulicn"
   },
   "outputs": [],
   "source": [
    "# 1. Distribusi Label\n",
    "plt.figure(figsize=(6,4))\n",
    "sns.countplot(x='label', data=train)\n",
    "plt.title('Distribusi Label (Fraud vs Non-Fraud)')\n",
    "plt.show()"
   ]
  },
  {
   "cell_type": "code",
   "execution_count": null,
   "metadata": {
    "id": "dvvVUH60nHT5"
   },
   "outputs": [],
   "source": [
    "# 2. Distribusi Fitur Anonim (pc)\n",
    "for i in range(17):\n",
    "    plt.figure(figsize=(6,4))\n",
    "    sns.histplot(train[f'pc{i}'], kde=True)\n",
    "    plt.title(f'Distribusi pc{i}')\n",
    "    plt.show()"
   ]
  },
  {
   "cell_type": "code",
   "execution_count": null,
   "metadata": {
    "id": "BFOKukMnneGT"
   },
   "outputs": [],
   "source": [
    "# 3. Korelasi Antar Fitur\n",
    "plt.figure(figsize=(12,10))\n",
    "correlation_matrix = train.drop('user_id', axis=1).corr()\n",
    "sns.heatmap(correlation_matrix, annot=True, cmap='coolwarm')\n",
    "plt.title('Matriks Korelasi')\n",
    "plt.show()"
   ]
  },
  {
   "cell_type": "code",
   "execution_count": null,
   "metadata": {
    "id": "See8BohLoMVG"
   },
   "outputs": [],
   "source": [
    "# 4. Analisis Loan Activities\n",
    "print(\"\\nLoan Activities Summary\")\n",
    "print(loan_activities.describe())\n",
    "print(loan_activities['loan_type'].value_counts())\n",
    "\n",
    "# Plot jumlah pinjaman berdasarkan tipe\n",
    "plt.figure(figsize=(10,6))\n",
    "sns.countplot(x='loan_type', data=loan_activities)\n",
    "plt.title('Jumlah Pinjaman Berdasarkan Tipe')\n",
    "plt.show()\n",
    "\n",
    "# Plot jumlah pinjaman dari waktu ke waktu\n",
    "loan_activities['ts'] = pd.to_datetime(loan_activities['ts'])\n",
    "loan_activities.set_index('ts').resample('M').size().plot()\n",
    "plt.title('Jumlah Pinjaman dari Waktu ke Waktu')\n",
    "plt.show()"
   ]
  },
  {
   "cell_type": "code",
   "execution_count": null,
   "metadata": {
    "id": "t-07UvL5oXXJ"
   },
   "outputs": [],
   "source": [
    "# 5. Analisis Non-Borrower User\n",
    "print(\"\\nNon Borrower User Summary\")\n",
    "print(non_borrower_user.describe())\n",
    "\n",
    "# Distribusi fitur anonim untuk non-borrower user\n",
    "for i in range(17):\n",
    "    plt.figure(figsize=(6,4))\n",
    "    sns.histplot(non_borrower_user[f'pc{i}'], kde=True)\n",
    "    plt.title(f'Distribusi pc{i} (Non Borrower User)')\n",
    "    plt.show()"
   ]
  },
  {
   "cell_type": "code",
   "execution_count": null,
   "metadata": {
    "id": "UU-vtArBodqk"
   },
   "outputs": [],
   "source": [
    "# 6. Analisis Perbandingan Fitur Antara Fraud dan Non-Fraud\n",
    "for i in range(17):\n",
    "    plt.figure(figsize=(6,4))\n",
    "    sns.boxplot(x='label', y=f'pc{i}', data=train)\n",
    "    plt.title(f'Perbandingan pc{i} Antara Fraud dan Non-Fraud')\n",
    "    plt.show()"
   ]
  },
  {
   "cell_type": "code",
   "execution_count": null,
   "metadata": {
    "id": "YSVN0OnNonv4"
   },
   "outputs": [],
   "source": [
    "# 7. Korelasi Fitur dengan Label\n",
    "correlation_with_label = train.corr()['label'].sort_values(ascending=False)\n",
    "print(\"\\nKorelasi Fitur dengan Label\")\n",
    "print(correlation_with_label)"
   ]
  },
  {
   "cell_type": "code",
   "execution_count": null,
   "metadata": {
    "id": "UAtLd1yEpIIK"
   },
   "outputs": [],
   "source": [
    "# # correlation matrics\n",
    "# sns.heatmap(train.corr(),cmap = colors,cbar = True)"
   ]
  },
  {
   "cell_type": "markdown",
   "metadata": {
    "id": "uwqolu_xnXHG"
   },
   "source": [
    "**Anova**"
   ]
  },
  {
   "cell_type": "code",
   "execution_count": null,
   "metadata": {
    "id": "oOeyZQVLna9g"
   },
   "outputs": [],
   "source": []
  },
  {
   "cell_type": "markdown",
   "metadata": {
    "id": "GfxgnnDNy7PQ"
   },
   "source": [
    "#pemodelan dan evaluasi"
   ]
  },
  {
   "cell_type": "code",
   "execution_count": null,
   "metadata": {
    "id": "M-uIRZVTzBbK"
   },
   "outputs": [],
   "source": [
    "# Memisahkan fitur dan target\n",
    "X = train.drop(['user_id', 'label'], axis=1)\n",
    "y = train['label']\n",
    "X_test = test.drop(['user_id'], axis=1)\n",
    "\n",
    "# Membagi data training menjadi training set dan validation set\n",
    "X_train, X_val, y_train, y_val = train_test_split(X, y, test_size=0.2, random_state=42, stratify=y)\n",
    "\n",
    "# Melatih model Random Forest\n",
    "model = RandomForestClassifier(random_state=42)\n",
    "model.fit(X_train, y_train)\n",
    "\n",
    "# Membuat prediksi pada validation set\n",
    "y_pred = model.predict(X_val)\n",
    "y_proba = model.predict_proba(X_val)[:,1]\n",
    "\n",
    "# Confusion Matrix\n",
    "cm = confusion_matrix(y_val, y_pred)\n",
    "plt.figure(figsize=(8,6))\n",
    "sns.heatmap(cm, annot=True, fmt='d', cmap='Blues')\n",
    "plt.title('Confusion Matrix')\n",
    "plt.xlabel('Predicted Label')\n",
    "plt.ylabel('True Label')\n",
    "plt.show()\n",
    "\n",
    "# Classification Report\n",
    "print(\"\\nClassification Report:\")\n",
    "print(classification_report(y_val, y_pred))\n",
    "\n",
    "# ROC AUC Score\n",
    "roc_auc = roc_auc_score(y_val, y_proba)\n",
    "print(\"\\nROC AUC Score:\", roc_auc)\n",
    "\n",
    "# ROC Curve\n",
    "fpr, tpr, thresholds = roc_curve(y_val, y_proba)\n",
    "roc_auc = auc(fpr, tpr)\n",
    "\n",
    "plt.figure(figsize=(8,6))\n",
    "plt.plot(fpr, tpr, color='darkorange', lw=2, label='ROC curve (area = %0.2f)' % roc_auc)\n",
    "plt.plot([0, 1], [0, 1], color='navy', lw=2, linestyle='--')\n",
    "plt.xlim([0.0, 1.0])\n",
    "plt.ylim([0.0, 1.05])\n",
    "plt.xlabel('False Positive Rate')\n",
    "plt.ylabel('True Positive Rate')\n",
    "plt.title('Receiver Operating Characteristic (ROC)')\n",
    "plt.legend(loc=\"lower right\")\n",
    "plt.show()\n",
    "\n",
    "# Accuracy Score\n",
    "accuracy = accuracy_score(y_val, y_pred)\n",
    "print(\"\\nAccuracy Score:\", accuracy)\n",
    "\n",
    "# Average Precision Score\n",
    "average_precision = average_precision_score(y_val, y_proba, average='macro')\n",
    "print(\"\\nAverage Precision Score:\", average_precision)"
   ]
  },
  {
   "cell_type": "code",
   "execution_count": null,
   "metadata": {
    "id": "1SN2WpiH6Ohw"
   },
   "outputs": [],
   "source": [
    "# Menggunakan model terbaik untuk prediksi pada data test\n",
    "y_test_pred = model.predict(X_test)\n",
    "\n",
    "# Membuat DataFrame untuk submisi\n",
    "submission = pd.DataFrame({\n",
    "    'user_id': test['user_id'],\n",
    "    'label': y_test_pred\n",
    "})\n",
    "\n",
    "# Menyimpan submisi ke file CSV\n",
    "submission.to_csv('submission.csv', index=False)"
   ]
  },
  {
   "cell_type": "code",
   "execution_count": null,
   "metadata": {
    "id": "aGzyDVfnWs1t"
   },
   "outputs": [],
   "source": [
    "import pandas as pd\n",
    "import networkx as nx\n",
    "from sklearn.model_selection import train_test_split\n",
    "from sklearn.ensemble import RandomForestClassifier\n",
    "from sklearn.metrics import classification_report, confusion_matrix, roc_auc_score, roc_curve, auc, average_precision_score\n",
    "import matplotlib.pyplot as plt\n",
    "import seaborn as sns\n",
    "\n",
    "# Memuat data\n",
    "train = pd.read_csv('train.csv')\n",
    "test = pd.read_csv('test.csv')\n",
    "loan_activities = pd.read_csv('loan_activities.csv')\n",
    "non_borrower_user = pd.read_csv('non_borrower_user.csv')\n",
    "\n",
    "# Membuat graf\n",
    "G = nx.DiGraph()\n",
    "\n",
    "# Menambahkan simpul dari train, test, dan non_borrower_user\n",
    "for df in [train, test, non_borrower_user]:\n",
    "    for user_id in df['user_id']:\n",
    "        G.add_node(user_id)\n",
    "\n",
    "# Menambahkan tepi dari loan_activities\n",
    "for _, row in loan_activities.iterrows():\n",
    "    user_id = row['user_id']\n",
    "    reference_contact = row['reference_contact']\n",
    "    G.add_edge(user_id, reference_contact)\n",
    "\n",
    "# Menambahkan fitur dari analisis jaringan\n",
    "train['degree_centrality'] = train['user_id'].apply(lambda x: nx.degree_centrality(G).get(x, 0))\n",
    "test['degree_centrality'] = test['user_id'].apply(lambda x: nx.degree_centrality(G).get(x, 0))\n",
    "non_borrower_user['degree_centrality'] = non_borrower_user['user_id'].apply(lambda x: nx.degree_centrality(G).get(x, 0))\n",
    "\n",
    "# Menggabungkan data berdasarkan user_id\n",
    "combined_train = pd.merge(train, non_borrower_user, on='user_id', how='left', suffixes=('', '_non_borrower'))\n",
    "combined_test = pd.merge(test, non_borrower_user, on='user_id', how='left', suffixes=('', '_non_borrower'))\n",
    "\n",
    "# Mengisi nilai-nilai yang hilang\n",
    "combined_train.fillna(0, inplace=True)\n",
    "combined_test.fillna(0, inplace=True)\n",
    "\n",
    "# Memisahkan fitur dan target\n",
    "X = combined_train.drop(['user_id', 'label'], axis=1)\n",
    "y = combined_train['label']\n",
    "X_test = combined_test.drop(['user_id'], axis=1)\n",
    "\n",
    "# Membagi data training menjadi training set dan validation set\n",
    "X_train, X_val, y_train, y_val = train_test_split(X, y, test_size=0.2, random_state=42, stratify=y)\n",
    "\n",
    "# Melatih model Random Forest\n",
    "model = RandomForestClassifier(random_state=42)\n",
    "model.fit(X_train, y_train)\n",
    "\n",
    "# Membuat prediksi pada validation set\n",
    "y_pred = model.predict(X_val)\n",
    "y_proba = model.predict_proba(X_val)[:, 1]\n",
    "\n",
    "# Confusion Matrix\n",
    "cm = confusion_matrix(y_val, y_pred)\n",
    "plt.figure(figsize=(8, 6))\n",
    "sns.heatmap(cm, annot=True, fmt='d', cmap='Blues')\n",
    "plt.title('Confusion Matrix')\n",
    "plt.xlabel('Predicted Label')\n",
    "plt.ylabel('True Label')\n",
    "plt.show()\n",
    "\n",
    "# Classification Report\n",
    "print(\"\\nClassification Report:\")\n",
    "print(classification_report(y_val, y_pred))\n",
    "\n",
    "# ROC AUC Score\n",
    "roc_auc = roc_auc_score(y_val, y_proba)\n",
    "print(\"\\nROC AUC Score:\", roc_auc)\n",
    "\n",
    "# ROC Curve\n",
    "fpr, tpr, thresholds = roc_curve(y_val, y_proba)\n",
    "roc_auc = auc(fpr, tpr)\n",
    "\n",
    "plt.figure(figsize=(8, 6))\n",
    "plt.plot(fpr, tpr, color='darkorange', lw=2, label='ROC curve (area = %0.2f)' % roc_auc)\n",
    "plt.plot([0, 1], [0, 1], color='navy', lw=2, linestyle='--')\n",
    "plt.xlim([0.0, 1.0])\n",
    "plt.ylim([0.0, 1.05])\n",
    "plt.xlabel('False Positive Rate')\n",
    "plt.ylabel('True Positive Rate')\n",
    "plt.title('Receiver Operating Characteristic (ROC)')\n",
    "plt.legend(loc=\"lower right\")\n",
    "plt.show()\n",
    "\n",
    "# Accuracy Score\n",
    "accuracy = accuracy_score(y_val, y_pred)\n",
    "print(\"\\nAccuracy Score:\", accuracy)\n",
    "\n",
    "# Average Precision Score\n",
    "average_precision = average_precision_score(y_val, y_proba, average='macro')\n",
    "print(\"\\nAverage Precision Score:\", average_precision)\n",
    "\n",
    "# Membuat prediksi pada data test\n",
    "y_test_pred = model.predict(X_test)\n",
    "\n",
    "# Membuat DataFrame untuk submisi\n",
    "submission = pd.DataFrame({\n",
    "    'user_id': combined_test['user_id'],\n",
    "    'label': y_test_pred\n",
    "})\n",
    "\n",
    "# Menyimpan submisi ke file CSV\n",
    "submission.to_csv('/mnt/data/submission1.csv', index=False)\n",
    "\n"
   ]
  }
 ],
 "metadata": {
  "colab": {
   "provenance": []
  },
  "kernelspec": {
   "display_name": "Python 3",
   "name": "python3"
  },
  "language_info": {
   "name": "python"
  }
 },
 "nbformat": 4,
 "nbformat_minor": 0
}
